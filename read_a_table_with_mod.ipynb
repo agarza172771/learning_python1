{
 "cells": [
  {
   "cell_type": "code",
   "execution_count": 1,
   "metadata": {},
   "outputs": [],
   "source": [
    "import requests\n",
    "import pandas as pd\n",
    "import matplotlib as plt\n",
    "import mio                #my own module\n"
   ]
  },
  {
   "cell_type": "code",
   "execution_count": 3,
   "metadata": {},
   "outputs": [
    {
     "data": {
      "text/html": [
       "<div>\n",
       "<style scoped>\n",
       "    .dataframe tbody tr th:only-of-type {\n",
       "        vertical-align: middle;\n",
       "    }\n",
       "\n",
       "    .dataframe tbody tr th {\n",
       "        vertical-align: top;\n",
       "    }\n",
       "\n",
       "    .dataframe thead th {\n",
       "        text-align: right;\n",
       "    }\n",
       "</style>\n",
       "<table border=\"1\" class=\"dataframe\">\n",
       "  <thead>\n",
       "    <tr style=\"text-align: right;\">\n",
       "      <th></th>\n",
       "      <th>#Summer</th>\n",
       "      <th>Gold</th>\n",
       "      <th>Silver</th>\n",
       "      <th>Bronze</th>\n",
       "      <th>Total</th>\n",
       "      <th>#Winter</th>\n",
       "      <th>Gold.1</th>\n",
       "      <th>Silver.1</th>\n",
       "      <th>Bronze.1</th>\n",
       "      <th>Total.1</th>\n",
       "      <th>#Games</th>\n",
       "      <th>Gold.2</th>\n",
       "      <th>Silver.2</th>\n",
       "      <th>Bronze.2</th>\n",
       "      <th>CTotal</th>\n",
       "      <th>ID</th>\n",
       "      <th>continent</th>\n",
       "    </tr>\n",
       "  </thead>\n",
       "  <tbody>\n",
       "    <tr>\n",
       "      <th>Afghanistan</th>\n",
       "      <td>14</td>\n",
       "      <td>0</td>\n",
       "      <td>0</td>\n",
       "      <td>2</td>\n",
       "      <td>2</td>\n",
       "      <td>0</td>\n",
       "      <td>0</td>\n",
       "      <td>0</td>\n",
       "      <td>0</td>\n",
       "      <td>0</td>\n",
       "      <td>14</td>\n",
       "      <td>0</td>\n",
       "      <td>0</td>\n",
       "      <td>2</td>\n",
       "      <td>2</td>\n",
       "      <td>AFG</td>\n",
       "      <td>Asia</td>\n",
       "    </tr>\n",
       "    <tr>\n",
       "      <th>Algeria</th>\n",
       "      <td>13</td>\n",
       "      <td>5</td>\n",
       "      <td>4</td>\n",
       "      <td>8</td>\n",
       "      <td>17</td>\n",
       "      <td>3</td>\n",
       "      <td>0</td>\n",
       "      <td>0</td>\n",
       "      <td>0</td>\n",
       "      <td>0</td>\n",
       "      <td>16</td>\n",
       "      <td>5</td>\n",
       "      <td>4</td>\n",
       "      <td>8</td>\n",
       "      <td>17</td>\n",
       "      <td>ALG</td>\n",
       "      <td>Africa</td>\n",
       "    </tr>\n",
       "    <tr>\n",
       "      <th>Argentina</th>\n",
       "      <td>24</td>\n",
       "      <td>21</td>\n",
       "      <td>25</td>\n",
       "      <td>28</td>\n",
       "      <td>74</td>\n",
       "      <td>19</td>\n",
       "      <td>0</td>\n",
       "      <td>0</td>\n",
       "      <td>0</td>\n",
       "      <td>0</td>\n",
       "      <td>43</td>\n",
       "      <td>21</td>\n",
       "      <td>25</td>\n",
       "      <td>28</td>\n",
       "      <td>74</td>\n",
       "      <td>ARG</td>\n",
       "      <td>South America</td>\n",
       "    </tr>\n",
       "    <tr>\n",
       "      <th>Armenia</th>\n",
       "      <td>6</td>\n",
       "      <td>2</td>\n",
       "      <td>6</td>\n",
       "      <td>6</td>\n",
       "      <td>14</td>\n",
       "      <td>7</td>\n",
       "      <td>0</td>\n",
       "      <td>0</td>\n",
       "      <td>0</td>\n",
       "      <td>0</td>\n",
       "      <td>13</td>\n",
       "      <td>2</td>\n",
       "      <td>6</td>\n",
       "      <td>6</td>\n",
       "      <td>14</td>\n",
       "      <td>ARM</td>\n",
       "      <td>Europe</td>\n",
       "    </tr>\n",
       "    <tr>\n",
       "      <th>Australasia</th>\n",
       "      <td>2</td>\n",
       "      <td>3</td>\n",
       "      <td>4</td>\n",
       "      <td>5</td>\n",
       "      <td>12</td>\n",
       "      <td>0</td>\n",
       "      <td>0</td>\n",
       "      <td>0</td>\n",
       "      <td>0</td>\n",
       "      <td>0</td>\n",
       "      <td>2</td>\n",
       "      <td>3</td>\n",
       "      <td>4</td>\n",
       "      <td>5</td>\n",
       "      <td>12</td>\n",
       "      <td>ANZ</td>\n",
       "      <td>Oceania Team</td>\n",
       "    </tr>\n",
       "  </tbody>\n",
       "</table>\n",
       "</div>"
      ],
      "text/plain": [
       "             #Summer  Gold  Silver  Bronze  Total  #Winter  Gold.1  Silver.1  \\\n",
       "Afghanistan       14     0       0       2      2        0       0         0   \n",
       "Algeria           13     5       4       8     17        3       0         0   \n",
       "Argentina         24    21      25      28     74       19       0         0   \n",
       "Armenia            6     2       6       6     14        7       0         0   \n",
       "Australasia        2     3       4       5     12        0       0         0   \n",
       "\n",
       "             Bronze.1  Total.1  #Games  Gold.2  Silver.2  Bronze.2  CTotal  \\\n",
       "Afghanistan         0        0      14       0         0         2       2   \n",
       "Algeria             0        0      16       5         4         8      17   \n",
       "Argentina           0        0      43      21        25        28      74   \n",
       "Armenia             0        0      13       2         6         6      14   \n",
       "Australasia         0        0       2       3         4         5      12   \n",
       "\n",
       "              ID      continent  \n",
       "Afghanistan  AFG           Asia  \n",
       "Algeria      ALG         Africa  \n",
       "Argentina    ARG  South America  \n",
       "Armenia      ARM         Europe  \n",
       "Australasia  ANZ   Oceania Team  "
      ]
     },
     "execution_count": 3,
     "metadata": {},
     "output_type": "execute_result"
    }
   ],
   "source": [
    "df = pd.merge(mio.df_web(), mio.df_csv(), how='inner', left_index= True, right_index=True)\n",
    "df.head()"
   ]
  },
  {
   "cell_type": "code",
   "execution_count": 4,
   "metadata": {},
   "outputs": [
    {
     "name": "stdout",
     "output_type": "stream",
     "text": [
      "<-------Countries with this classification ------->\n",
      "\n",
      "1st country of the table-------------------------->:  Afghanistan\n",
      "Last  country of the table------------------------>:  Mixed team\n",
      "Gold medals in summer----------------------------->:  United States\n",
      "2nd with Gold medals in summer-------------------->:  Soviet Union\n",
      "Gold medals in winter----------------------------->:  Norway\n",
      "2nd with Gold medals in winter-------------------->:  United States\n",
      "\n",
      "<----------Mexico--------------------------------->\n",
      "\n",
      "Gold medals in Summer----------------------------->:  13\n",
      "Gold medals in Winter----------------------------->:  0\n",
      "\n",
      "<---Total of medals including all countries-------->\n",
      "\n",
      "Gold medals in Summer----------------------------->:  5115\n",
      "Gold medals in Winter----------------------------->:  1062\n",
      "Gold medals in Total--------- -------------------->:  6177\n"
     ]
    }
   ],
   "source": [
    "print('<-------Countries with this classification ------->\\n')\n",
    "print('1st country of the table-------------------------->: ', df.iloc[0].to_frame().T.index.any())\n",
    "print('Last  country of the table------------------------>: ', df.iloc[-1].to_frame().T.index.any())\n",
    "print('Gold medals in summer----------------------------->: ', df[df['Gold'] == df['Gold'].max()].index[0])\n",
    "q = df.loc[lambda df: df['Gold'] != df['Gold'].max()]\n",
    "print('2nd with Gold medals in summer-------------------->: ', q.loc[lambda q: q['Gold'] == q['Gold'].max()].index.any())\n",
    "\n",
    "print('Gold medals in winter----------------------------->: ', df[df['Gold.1'] == df['Gold.1'].max()].index[0])\n",
    "q1 = df.loc[lambda df: df['Gold.1'] != df['Gold.1'].max()]\n",
    "print('2nd with Gold medals in winter-------------------->: ', q1.loc[lambda q1: q1['Gold.1'] == q1['Gold.1'].max()].index.any())\n",
    "\n",
    "print('\\n<----------Mexico--------------------------------->\\n')\n",
    "print('Gold medals in Summer----------------------------->: ',df.at['Mexico','Gold'])\n",
    "print('Gold medals in Winter----------------------------->: ',df.at['Mexico','Gold.1'])\n",
    "\n",
    "print('\\n<---Total of medals including all countries-------->\\n')\n",
    "print('Gold medals in Summer----------------------------->: ',df['Gold'].sum())\n",
    "print('Gold medals in Winter----------------------------->: ',df['Gold.1'].sum())\n",
    "print('Gold medals in Total--------- -------------------->: ',df['Gold.2'].sum())"
   ]
  },
  {
   "cell_type": "code",
   "execution_count": 5,
   "metadata": {},
   "outputs": [],
   "source": [
    "ax = df.groupby(['continent']).sum().drop(columns=['#Summer','Silver','Bronze','Total',\n",
    "                                               '#Winter','Silver.1','Bronze.1','Total.1',\n",
    "                                               '#Games','Silver.2','Bronze.2','CTotal'])"
   ]
  },
  {
   "cell_type": "code",
   "execution_count": 7,
   "metadata": {},
   "outputs": [
    {
     "data": {
      "text/plain": [
       "array([<matplotlib.axes._subplots.AxesSubplot object at 0x000002294B7B7710>,\n",
       "       <matplotlib.axes._subplots.AxesSubplot object at 0x000002294B7D8B38>,\n",
       "       <matplotlib.axes._subplots.AxesSubplot object at 0x000002294B80A0F0>],\n",
       "      dtype=object)"
      ]
     },
     "execution_count": 7,
     "metadata": {},
     "output_type": "execute_result"
    },
    {
     "data": {
      "image/png": "[encoded data removed]",
      "text/plain": [
       "<Figure size 720x576 with 3 Axes>"
      ]
     },
     "metadata": {},
     "output_type": "display_data"
    }
   ],
   "source": [
    "ax.plot.bar(subplots=True,figsize=(10,8), title='Medallas por continente')"
   ]
  },
  {
   "cell_type": "code",
   "execution_count": null,
   "metadata": {},
   "outputs": [],
   "source": []
  }
 ],
 "metadata": {
  "kernelspec": {
   "display_name": "Python 3",
   "language": "python",
   "name": "python3"
  },
  "language_info": {
   "codemirror_mode": {
    "name": "ipython",
    "version": 3
   },
   "file_extension": ".py",
   "mimetype": "text/x-python",
   "name": "python",
   "nbconvert_exporter": "python",
   "pygments_lexer": "ipython3",
   "version": "3.6.6"
  }
 },
 "nbformat": 4,
 "nbformat_minor": 2
}
